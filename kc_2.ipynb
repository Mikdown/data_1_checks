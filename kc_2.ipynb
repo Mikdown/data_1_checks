{
 "cells": [
  {
   "cell_type": "code",
   "execution_count": 7,
   "metadata": {},
   "outputs": [
    {
     "name": "stdout",
     "output_type": "stream",
     "text": [
      "     Unnamed: 0  Working_Year                 Designation Experience Employment_Status Salary_In_Rupees Employee_Location Company_Location Company_Size  Remote_Working_Ratio\n",
      "0             1          2020              Data Scientist         MI                FT     6,352,272.00                DE               DE            L                     0\n",
      "1             2          2020  Machine Learning Scientist         SE                FT    20,688,070.00                JP               JP            S                     0\n",
      "2             3          2020           Big Data Engineer         SE                FT     8,674,985.00                GB               GB            M                    50\n",
      "3             4          2020        Product Data Analyst         MI                FT     1,591,390.00                HN               HN            S                     0\n",
      "4             5          2020   Machine Learning Engineer         SE                FT    11,935,425.00                US               US            L                    50\n",
      "..          ...           ...                         ...        ...               ...              ...               ...              ...          ...                   ...\n",
      "602         603          2022               Data Engineer         SE                FT    12,253,703.00                US               US            M                   100\n",
      "603         604          2022               Data Engineer         SE                FT    10,025,757.00                US               US            M                   100\n",
      "604         605          2022                Data Analyst         SE                FT    10,264,466.00                US               US            M                     0\n",
      "605         606          2022                Data Analyst         SE                FT    11,935,425.00                US               US            M                   100\n",
      "606         607          2022                AI Scientist         MI                FT    15,913,900.00                IN               US            L                   100\n",
      "\n",
      "[607 rows x 10 columns]\n"
     ]
    }
   ],
   "source": [
    "import pandas as pd\n",
    "# Set pandas print options to wider terminal display in order to accomodate all columns.\n",
    "pd.set_option('display.max_columns', 20)\n",
    "pd.set_option('display.width', 1000)\n",
    "\n",
    "df = pd.read_csv('assets/Data_Science_Fields_Salary_Categorization.csv') # Read data from local CSV file into pandas dataframe.\n",
    "print(df)"
   ]
  }
 ],
 "metadata": {
  "kernelspec": {
   "display_name": "Python 3.10.6 64-bit",
   "language": "python",
   "name": "python3"
  },
  "language_info": {
   "codemirror_mode": {
    "name": "ipython",
    "version": 3
   },
   "file_extension": ".py",
   "mimetype": "text/x-python",
   "name": "python",
   "nbconvert_exporter": "python",
   "pygments_lexer": "ipython3",
   "version": "3.10.6"
  },
  "orig_nbformat": 4,
  "vscode": {
   "interpreter": {
    "hash": "aee8b7b246df8f9039afb4144a1f6fd8d2ca17a180786b69acc140d282b71a49"
   }
  }
 },
 "nbformat": 4,
 "nbformat_minor": 2
}
