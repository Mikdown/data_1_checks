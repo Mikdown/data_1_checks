{
 "cells": [
  {
   "cell_type": "code",
   "execution_count": 38,
   "metadata": {},
   "outputs": [
    {
     "name": "stdout",
     "output_type": "stream",
     "text": [
      "     Working_Year                 Designation Experience Employment_Status  Salary_USD Employee_Location Company_Location Company_Size  Remote_Working_Ratio\n",
      "0            2020              Data Scientist         MI                FT   76227.264                DE               DE            L                     0\n",
      "1            2020  Machine Learning Scientist         SE                FT  248256.840                JP               JP            S                     0\n",
      "2            2020           Big Data Engineer         SE                FT  104099.820                GB               GB            M                    50\n",
      "3            2020        Product Data Analyst         MI                FT   19096.680                HN               HN            S                     0\n",
      "4            2020   Machine Learning Engineer         SE                FT  143225.100                US               US            L                    50\n",
      "..            ...                         ...        ...               ...         ...               ...              ...          ...                   ...\n",
      "602          2022               Data Engineer         SE                FT  147044.436                US               US            M                   100\n",
      "603          2022               Data Engineer         SE                FT  120309.084                US               US            M                   100\n",
      "604          2022                Data Analyst         SE                FT  123173.592                US               US            M                     0\n",
      "605          2022                Data Analyst         SE                FT  143225.100                US               US            M                   100\n",
      "606          2022                AI Scientist         MI                FT  190966.800                IN               US            L                   100\n",
      "\n",
      "[607 rows x 9 columns]\n"
     ]
    }
   ],
   "source": [
    "import seaborn as sns\n",
    "import pandas as pd\n",
    "# Set pandas print options to wider terminal display in order to accomodate all columns.\n",
    "pd.set_option('display.max_columns', 20)\n",
    "pd.set_option('display.width', 1000)\n",
    "\n",
    "df = pd.read_csv('assets/Data_Science_Fields_Salary_Categorization.csv') # Read data from local CSV file into pandas dataframe.\n",
    "df.drop(\"Unnamed: 0\", axis=1, inplace=True) # Removes the \"Unnamed: 0\" column created by the file title.\n",
    "df['Salary_In_Rupees'] = df['Salary_In_Rupees'].str.replace(\",\", '', regex=True).astype(float) # Removes the \",\" from the all string values in the \"Salary_In_Rupees\" column and converts to type float.\n",
    "df[\"Salary_In_Rupees\"] = df['Salary_In_Rupees'].apply(lambda x:x*.012) # Converts the salary from Rupees to USD.\n",
    "df.rename(columns={'Salary_In_Rupees': 'Salary_USD'}, inplace=True) # Renames the \"Salary_In Rupees\" column.\n",
    "\n",
    "\n",
    "print(df)"
   ]
  },
  {
   "cell_type": "code",
   "execution_count": 49,
   "metadata": {},
   "outputs": [
    {
     "data": {
      "text/plain": [
       "<AxesSubplot: xlabel='Experience', ylabel='Salary_USD'>"
      ]
     },
     "execution_count": 49,
     "metadata": {},
     "output_type": "execute_result"
    },
    {
     "data": {
      "image/png": "[encoded data removed]",
      "text/plain": [
       "<Figure size 432x288 with 1 Axes>"
      ]
     },
     "metadata": {
      "needs_background": "light"
     },
     "output_type": "display_data"
    }
   ],
   "source": [
    "is_data_analyst = df[\"Designation\"] == \"Data Analyst\" # Filter dataframe to only Data Analysts.\n",
    "df_data_analyst = df[is_data_analyst]\n",
    "is_US = df_data_analyst[\"Employee_Location\"] == \"US\" # Filter dataframe to only US based\n",
    "df_US_data_analyst = df_data_analyst[is_US]\n",
    "\n",
    "sns.barplot(x=df_US_data_analyst[\"Experience\"], y=df_US_data_analyst[\"Salary_USD\"]) # Plot bar graph salary by experience."
   ]
  }
 ],
 "metadata": {
  "kernelspec": {
   "display_name": "Python 3.10.6 64-bit",
   "language": "python",
   "name": "python3"
  },
  "language_info": {
   "codemirror_mode": {
    "name": "ipython",
    "version": 3
   },
   "file_extension": ".py",
   "mimetype": "text/x-python",
   "name": "python",
   "nbconvert_exporter": "python",
   "pygments_lexer": "ipython3",
   "version": "3.10.6"
  },
  "orig_nbformat": 4,
  "vscode": {
   "interpreter": {
    "hash": "aee8b7b246df8f9039afb4144a1f6fd8d2ca17a180786b69acc140d282b71a49"
   }
  }
 },
 "nbformat": 4,
 "nbformat_minor": 2
}
